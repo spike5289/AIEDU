{
  "cells": [
    {
      "cell_type": "markdown",
      "metadata": {
        "colab_type": "text",
        "id": "view-in-github"
      },
      "source": [
        "<a href=\"https://colab.research.google.com/github/spike5289/AIEDU/blob/main/colab_starter.ipynb\" target=\"_parent\"><img src=\"https://colab.research.google.com/assets/colab-badge.svg\" alt=\"Open In Colab\"/></a>"
      ]
    },
    {
      "cell_type": "code",
      "execution_count": null,
      "metadata": {
        "colab": {
          "base_uri": "https://localhost:8080/",
          "height": 228
        },
        "id": "DXPMB4syxTCF",
        "outputId": "c2ef6e4d-16f6-410b-e4d9-e480a89469f5"
      },
      "outputs": [
        {
          "name": "stdout",
          "output_type": "stream",
          "text": [
            "Collecting colabcode\n",
            "  Downloading https://files.pythonhosted.org/packages/50/80/c7ba2ab115f40007e12ef505e82234d3bf330523d58f21db9e4ba81268a9/colabcode-0.0.6-py3-none-any.whl\n",
            "Collecting pyngrok>=4.1.11\n",
            "  Downloading https://files.pythonhosted.org/packages/91/46/8cf45192af2005f552724ac217337baa42ee1383a6b38f03ce2a597c56e3/pyngrok-4.1.11.tar.gz\n",
            "Requirement already satisfied: future in /usr/local/lib/python3.6/dist-packages (from pyngrok>=4.1.11->colabcode) (0.16.0)\n",
            "Requirement already satisfied: PyYAML in /usr/local/lib/python3.6/dist-packages (from pyngrok>=4.1.11->colabcode) (3.13)\n",
            "Building wheels for collected packages: pyngrok\n",
            "  Building wheel for pyngrok (setup.py) ... \u001b[?25l\u001b[?25hdone\n",
            "  Created wheel for pyngrok: filename=pyngrok-4.1.11-cp36-none-any.whl size=16680 sha256=6df382a7c840bfe902cad96874b6791fec18f50304aa2e9d97519ad1cba972c1\n",
            "  Stored in directory: /root/.cache/pip/wheels/b9/d8/ae/5a29960e0fddbd2bf852bfa93d841dd8b1aa23851e81687f85\n",
            "Successfully built pyngrok\n",
            "Installing collected packages: pyngrok, colabcode\n",
            "Successfully installed colabcode-0.0.6 pyngrok-4.1.11\n"
          ]
        }
      ],
      "source": [
        "!pip install colabcode"
      ]
    },
    {
      "cell_type": "code",
      "execution_count": null,
      "metadata": {
        "id": "jPNTUYTDxbkC"
      },
      "outputs": [],
      "source": [
        "from colabcode import ColabCode"
      ]
    },
    {
      "cell_type": "code",
      "execution_count": null,
      "metadata": {
        "colab": {
          "base_uri": "https://localhost:8080/",
          "height": 147
        },
        "id": "M6bGiCAGxilQ",
        "outputId": "5c6803f3-b9b3-4de3-954d-9e53b5b83f42"
      },
      "outputs": [
        {
          "name": "stdout",
          "output_type": "stream",
          "text": [
            "Code Server can be accessed on: http://a18599df3aca.ngrok.io\n",
            "[2020-09-09T17:56:03.140Z] info  Using config file ~/.config/code-server/config.yaml\n",
            "[2020-09-09T17:56:03.497Z] info  Using user-data-dir ~/.local/share/code-server\n",
            "[2020-09-09T17:56:03.506Z] info  code-server 3.5.0 de41646fc402b968ca6d555fdf2da7de9554d28a\n",
            "[2020-09-09T17:56:03.512Z] info  HTTP server listening on http://127.0.0.1:10000\n",
            "[2020-09-09T17:56:03.512Z] info      - Using password from $PASSWORD\n",
            "[2020-09-09T17:56:03.512Z] info      - To disable use `--auth none`\n",
            "[2020-09-09T17:56:03.512Z] info    - Not serving HTTPS\n"
          ]
        }
      ],
      "source": [
        "ColabCode(port=10000, password=\"abhishek\")"
      ]
    },
    {
      "cell_type": "code",
      "execution_count": null,
      "metadata": {
        "id": "txznnS0b-kqQ"
      },
      "outputs": [],
      "source": []
    }
  ],
  "metadata": {
    "colab": {
      "include_colab_link": true,
      "name": "colab_starter.ipynb",
      "provenance": []
    },
    "kernelspec": {
      "display_name": ".venv",
      "language": "python",
      "name": "python3"
    },
    "language_info": {
      "name": "python",
      "version": "3.12.6"
    }
  },
  "nbformat": 4,
  "nbformat_minor": 0
}
