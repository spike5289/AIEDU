{
 "cells": [
  {
   "cell_type": "raw",
   "metadata": {
    "vscode": {
     "languageId": "raw"
    }
   },
   "source": [
    "# Working with Python Environments\n"
   ]
  },
  {
   "cell_type": "raw",
   "metadata": {
    "vscode": {
     "languageId": "raw"
    }
   },
   "source": [
    "This notebook introduces the concept of virtual environments in Python. We'll cover why they are essential for modern Python development, how to use traditional tools like `venv` and `pip`, and then explore a powerful new tool called `uv`.\n"
   ]
  },
  {
   "cell_type": "raw",
   "metadata": {
    "vscode": {
     "languageId": "raw"
    }
   },
   "source": [
    "### Why Use Virtual Environments?\n",
    "\n",
    "When you work on different Python projects, you'll often find that they have different dependencies. Project A might need version 1.0 of a library, while Project B needs version 2.0 of the same library.\n",
    "\n",
    "If you install these dependencies globally, you'll run into conflicts. A **virtual environment** solves this by creating an isolated directory for each project, with its own Python interpreter and installed packages.\n",
    "\n",
    "**Key Benefits:**\n",
    "- **Isolation:** Avoids dependency conflicts between projects.\n",
    "- **Reproducibility:** Makes it easy to recreate the exact environment on another machine.\n",
    "- **Cleanliness:** Keeps your global `site-packages` directory clean.\n"
   ]
  },
  {
   "cell_type": "raw",
   "metadata": {
    "vscode": {
     "languageId": "raw"
    }
   },
   "source": [
    "### The Traditional Approach: `venv` and `pip`\n",
    "\n",
    "Python's built-in `venv` module is the standard way to create virtual environments. `pip` is the package installer used to manage dependencies within these environments. The typical workflow in a terminal looks like this:\n"
   ]
  },
  {
   "cell_type": "code",
   "execution_count": null,
   "metadata": {},
   "outputs": [],
   "source": [
    "# In your terminal, you would run the following commands.\n",
    "# NOTE: Don't run this cell in the notebook, it's for demonstration.\n",
    "\n",
    "# 1. Create a virtual environment named .venv\n",
    "# python -m venv .venv\n",
    "\n",
    "# 2. Activate it\n",
    "# On Windows:\n",
    "# .\\\\.venv\\\\Scripts\\\\activate\n",
    "# On macOS/Linux:\n",
    "# source .venv/bin/activate\n",
    "\n",
    "# 3. Install packages\n",
    "# pip install numpy pandas\n",
    "\n",
    "# 4. Save your dependencies to a file for others to use\n",
    "# pip freeze > requirements.txt\n"
   ]
  },
  {
   "cell_type": "raw",
   "metadata": {
    "vscode": {
     "languageId": "raw"
    }
   },
   "source": [
    "### The Modern, Faster Way: `uv`\n",
    "\n",
    "While `venv` and `pip` are reliable, they can be slow, especially for complex projects. **`uv`** is an extremely fast Python package installer and resolver, written in Rust, designed as a drop-in replacement for `pip`, `pip-tools`, and `venv`.\n",
    "\n",
    "**Why `uv`?**\n",
    "- **🚀 Speed:** It's an order of magnitude faster than `pip` due to its parallel processing and intelligent caching.\n",
    "- **📦 Unified Toolchain:** It handles environment creation, dependency resolution, and installation in one place.\n",
    "- **Standards-Compliant:** It uses modern `pyproject.toml` for project configuration (PEP 621).\n",
    "- **Deterministic Builds:** It generates a `uv.lock` file to ensure that every developer on a team gets the exact same package versions.\n"
   ]
  },
  {
   "cell_type": "raw",
   "metadata": {
    "vscode": {
     "languageId": "raw"
    }
   },
   "source": [
    "### Installing `uv`\n",
    "\n",
    "You can install `uv` using `pip`. For system-wide use, it's best to use `pipx`, but for this notebook, `pip` is sufficient.\n"
   ]
  },
  {
   "cell_type": "code",
   "execution_count": null,
   "metadata": {},
   "outputs": [],
   "source": [
    "# Let's install uv using pip within this notebook's environment\n",
    "import sys\n",
    "!{sys.executable} -m pip install uv\n"
   ]
  },
  {
   "cell_type": "raw",
   "metadata": {
    "vscode": {
     "languageId": "raw"
    }
   },
   "source": [
    "### Using `uv`\n",
    "\n",
    "`uv` streamlines the entire process of managing a project. Here are the equivalent commands you would run in a terminal:\n"
   ]
  },
  {
   "cell_type": "code",
   "execution_count": null,
   "metadata": {},
   "outputs": [],
   "source": [
    "# In your terminal, you would run the following commands.\n",
    "# NOTE: Don't run this cell in the notebook, it's for demonstration.\n",
    "\n",
    "# 1. Initialize a new project. This creates a pyproject.toml file.\n",
    "# uv init\n",
    "\n",
    "# 2. Create and activate a virtual environment in one go.\n",
    "# uv venv\n",
    "\n",
    "# 3. Add dependencies. This updates pyproject.toml and installs the packages.\n",
    "# uv add numpy pandas\n"
   ]
  },
  {
   "cell_type": "raw",
   "metadata": {
    "vscode": {
     "languageId": "raw"
    }
   },
   "source": [
    "### Understanding `pyproject.toml` and `uv.lock`\n",
    "\n",
    "When you use `uv` to manage a project, it relies on two key files:\n",
    "\n",
    "#### `pyproject.toml`\n",
    "This file is the new standard for configuring Python projects (defined in PEP 621). It replaces older files like `setup.py` and, for defining direct dependencies, `requirements.txt`.\n",
    "\n",
    "In it, you define your project's metadata (name, version) and its dependencies. `uv` automatically adds new packages here when you run `uv add`.\n",
    "\n",
    "**Example `[project]` section in `pyproject.toml`:**\n",
    "```toml\n",
    "[project]\n",
    "name = \"my-ai-project\"\n",
    "version = \"0.1.0\"\n",
    "dependencies = [\n",
    "    \"numpy\",\n",
    "    \"pandas\",\n",
    "]\n",
    "```\n",
    "\n",
    "#### `uv.lock`\n",
    "This is a **lock file**. While `pyproject.toml` might say you need `numpy`, the lock file specifies the *exact* version (e.g., `numpy==1.26.4`) and all of its sub-dependencies.\n",
    "\n",
    "**Key benefits of a lock file:**\n",
    "- **Deterministic Builds:** Everyone on your team gets the exact same versions of all packages, every time. This guarantees reproducibility across machines and time.\n",
    "- **Cross-Platform:** `uv.lock` is designed to work across different operating systems (Windows, macOS, Linux).\n",
    "- **Security:** It includes hashes of the packages to ensure the code you install hasn't been tampered with.\n",
    "\n",
    "Using `uv` with `pyproject.toml` and `uv.lock` is the modern standard for robust, reproducible, and fast Python development.\n"
   ]
  }
 ],
 "metadata": {
  "language_info": {
   "name": "python"
  }
 },
 "nbformat": 4,
 "nbformat_minor": 2
}
